{
  "nbformat": 4,
  "nbformat_minor": 0,
  "metadata": {
    "colab": {
      "provenance": [],
      "authorship_tag": "ABX9TyPr9RV+23ZIeMcfOSKgvy2k",
      "include_colab_link": true
    },
    "kernelspec": {
      "name": "python3",
      "display_name": "Python 3"
    },
    "language_info": {
      "name": "python"
    }
  },
  "cells": [
    {
      "cell_type": "markdown",
      "metadata": {
        "id": "view-in-github",
        "colab_type": "text"
      },
      "source": [
        "<a href=\"https://colab.research.google.com/github/SachinScaler/IntroToML-NN_Dec23/blob/main/CM_Continued_and_Data_Balancing.ipynb\" target=\"_parent\"><img src=\"https://colab.research.google.com/assets/colab-badge.svg\" alt=\"Open In Colab\"/></a>"
      ]
    },
    {
      "cell_type": "code",
      "execution_count": 62,
      "metadata": {
        "colab": {
          "base_uri": "https://localhost:8080/",
          "height": 593
        },
        "id": "a57SN1EHv-Qh",
        "outputId": "fedf6522-561b-4563-b772-0f9e2ade58b8"
      },
      "outputs": [
        {
          "output_type": "stream",
          "name": "stdout",
          "text": [
            "Downloading...\n",
            "From: https://drive.google.com/uc?id=1dw56R8SzKgTgiKurfBLUTxmiewJacMkt\n",
            "To: /content/Spam_finalData.csv\n",
            "\r  0% 0.00/1.64M [00:00<?, ?B/s]\r 64% 1.05M/1.64M [00:00<00:00, 8.91MB/s]\r100% 1.64M/1.64M [00:00<00:00, 12.5MB/s]\n"
          ]
        },
        {
          "output_type": "display_data",
          "data": {
            "text/plain": [
              "<Figure size 640x480 with 1 Axes>"
            ],
            "image/png": "[encoded data removed]"
          },
          "metadata": {}
        },
        {
          "output_type": "stream",
          "name": "stdout",
          "text": [
            "Training Data:(3619, 15),(3619,), Testing Data: (1552, 15),(1552,)\n",
            "Training Acc: 0.9292622271345675\n"
          ]
        }
      ],
      "source": [
        "import pandas as pd\n",
        "import numpy as np\n",
        "import matplotlib.pyplot as plt\n",
        "from sklearn.linear_model import LogisticRegression\n",
        "from sklearn.model_selection import train_test_split\n",
        "\n",
        "!gdown 1dw56R8SzKgTgiKurfBLUTxmiewJacMkt\n",
        "\n",
        "dt = pd.read_csv('Spam_finalData.csv')\n",
        "\n",
        "\n",
        "# train Test Split\n",
        "X = dt.drop(['label_num'],axis=1)\n",
        "y = dt['label_num']\n",
        "X_train,X_test,y_train,y_test = train_test_split( X,y, test_size=0.3, random_state=42)\n",
        "\n",
        "# plot distribution\n",
        "y_test.value_counts().plot(kind='bar')\n",
        "plt.xlabel('Class')\n",
        "plt.ylabel('Number of Samples')\n",
        "plt.title('Test Data Distribution')\n",
        "plt.show()\n",
        "\n",
        "\n",
        "print(f'Training Data:{X_train.shape},{y_train.shape}, Testing Data: {X_test.shape},{y_test.shape}')\n",
        "\n",
        "model = LogisticRegression()\n",
        "model.fit(X_train,y_train)\n",
        "print(\"Training Acc:\",model.score(X_train,y_train))"
      ]
    },
    {
      "cell_type": "code",
      "source": [
        "y_pred=model.predict(X_test)\n",
        "\n",
        "from sklearn.metrics import accuracy_score\n",
        "print(\"Test Acc Score: \", accuracy_score(y_test,y_pred))"
      ],
      "metadata": {
        "id": "HCUEAsJjx2t0",
        "colab": {
          "base_uri": "https://localhost:8080/"
        },
        "outputId": "7e6ba4f9-ac90-4923-8e54-abfc04657de4"
      },
      "execution_count": 63,
      "outputs": [
        {
          "output_type": "stream",
          "name": "stdout",
          "text": [
            "Test Acc Score:  0.9342783505154639\n"
          ]
        }
      ]
    },
    {
      "cell_type": "code",
      "source": [
        "from sklearn.metrics import precision_score, recall_score, f1_score\n",
        "print(\"Test Precision Score: \", precision_score(y_test,y_pred) )\n",
        "print(\"Test Recall Score: \",recall_score(y_test,y_pred))\n",
        "print(\"Test F1 Score: \",f1_score(y_test,y_pred))"
      ],
      "metadata": {
        "colab": {
          "base_uri": "https://localhost:8080/"
        },
        "id": "pUBHNP-7xmg-",
        "outputId": "ccc56b3c-adaa-4c3f-e427-c21c75dbc67c"
      },
      "execution_count": 64,
      "outputs": [
        {
          "output_type": "stream",
          "name": "stdout",
          "text": [
            "Test Precision Score:  0.8463157894736842\n",
            "Test Recall Score:  0.9327146171693735\n",
            "Test F1 Score:  0.8874172185430463\n"
          ]
        }
      ]
    },
    {
      "cell_type": "code",
      "source": [
        "from sklearn.metrics import roc_curve\n",
        "\n",
        "# this is prediction not probability\n",
        "y_pred=model.predict(X_test) # thresh=0.5\n",
        "y_pred"
      ],
      "metadata": {
        "id": "nWDXSQOZyM0P",
        "colab": {
          "base_uri": "https://localhost:8080/"
        },
        "outputId": "9fb33228-1671-4d96-a4bf-9b2e92eb0c63"
      },
      "execution_count": 65,
      "outputs": [
        {
          "output_type": "execute_result",
          "data": {
            "text/plain": [
              "array([0, 1, 0, ..., 0, 1, 0])"
            ]
          },
          "metadata": {},
          "execution_count": 65
        }
      ]
    },
    {
      "cell_type": "code",
      "source": [],
      "metadata": {
        "id": "ABifCyK9tM7S"
      },
      "execution_count": null,
      "outputs": []
    },
    {
      "cell_type": "markdown",
      "source": [
        "### Extract Probabilities"
      ],
      "metadata": {
        "id": "TzVFtU0uYbjC"
      }
    },
    {
      "cell_type": "code",
      "source": [
        "y_proba=model.predict_proba(X_test)\n",
        "y_proba"
      ],
      "metadata": {
        "colab": {
          "base_uri": "https://localhost:8080/"
        },
        "id": "YUFHurEZrmi0",
        "outputId": "39c0d13a-a5de-4786-bcb3-e7827d281f13"
      },
      "execution_count": 68,
      "outputs": [
        {
          "output_type": "execute_result",
          "data": {
            "text/plain": [
              "array([[0.96235181, 0.03764819],\n",
              "       [0.43240704, 0.56759296],\n",
              "       [0.97019911, 0.02980089],\n",
              "       ...,\n",
              "       [0.69091382, 0.30908618],\n",
              "       [0.4248589 , 0.5751411 ],\n",
              "       [0.97033155, 0.02966845]])"
            ]
          },
          "metadata": {},
          "execution_count": 68
        }
      ]
    },
    {
      "cell_type": "code",
      "source": [
        "model.classes_"
      ],
      "metadata": {
        "colab": {
          "base_uri": "https://localhost:8080/"
        },
        "id": "lfyxmqkkJrac",
        "outputId": "8e312f04-64a2-44ae-bc79-27fbd384d187"
      },
      "execution_count": 82,
      "outputs": [
        {
          "output_type": "execute_result",
          "data": {
            "text/plain": [
              "array([0, 1])"
            ]
          },
          "metadata": {},
          "execution_count": 82
        }
      ]
    },
    {
      "cell_type": "code",
      "source": [
        "y_proba = y_proba[:,1]\n",
        "y_proba"
      ],
      "metadata": {
        "colab": {
          "base_uri": "https://localhost:8080/"
        },
        "id": "NKm1ZPrdIRIt",
        "outputId": "5f3f9123-1b76-4af9-8ac8-5f4068baa45b"
      },
      "execution_count": 69,
      "outputs": [
        {
          "output_type": "execute_result",
          "data": {
            "text/plain": [
              "array([0.03764819, 0.56759296, 0.02980089, ..., 0.30908618, 0.5751411 ,\n",
              "       0.02966845])"
            ]
          },
          "metadata": {},
          "execution_count": 69
        }
      ]
    },
    {
      "cell_type": "code",
      "source": [
        "max(y_proba)"
      ],
      "metadata": {
        "colab": {
          "base_uri": "https://localhost:8080/"
        },
        "id": "PfpPw7npKK04",
        "outputId": "33eb567b-0ed9-4ddb-9346-9d1cb42dd67f"
      },
      "execution_count": 86,
      "outputs": [
        {
          "output_type": "execute_result",
          "data": {
            "text/plain": [
              "0.9713405927434123"
            ]
          },
          "metadata": {},
          "execution_count": 86
        }
      ]
    },
    {
      "cell_type": "code",
      "source": [
        "from sklearn.metrics import roc_curve, roc_auc_score\n",
        "print(\"AU ROC:\",roc_auc_score(y_test,y_proba))"
      ],
      "metadata": {
        "colab": {
          "base_uri": "https://localhost:8080/"
        },
        "id": "yUUyfO4UYN0b",
        "outputId": "6747add3-9d95-4747-de10-c93fc828a3cc"
      },
      "execution_count": 92,
      "outputs": [
        {
          "output_type": "stream",
          "name": "stdout",
          "text": [
            "AU ROC: 0.9732795751224772\n"
          ]
        }
      ]
    },
    {
      "cell_type": "code",
      "source": [
        "len(roc_curve(y_test,y_proba))"
      ],
      "metadata": {
        "colab": {
          "base_uri": "https://localhost:8080/"
        },
        "id": "oSbcMGeJYvbm",
        "outputId": "2565260d-282e-45d2-99d6-62ecd309712e"
      },
      "execution_count": 72,
      "outputs": [
        {
          "output_type": "execute_result",
          "data": {
            "text/plain": [
              "3"
            ]
          },
          "metadata": {},
          "execution_count": 72
        }
      ]
    },
    {
      "cell_type": "code",
      "source": [
        "fpr, tpr, thresholds  = roc_curve(y_test,y_proba)\n",
        "fpr"
      ],
      "metadata": {
        "id": "A-e9N62DY5Bx",
        "colab": {
          "base_uri": "https://localhost:8080/"
        },
        "outputId": "abe25ae4-d0ba-4c8c-e2a2-a568136b04f0"
      },
      "execution_count": 83,
      "outputs": [
        {
          "output_type": "execute_result",
          "data": {
            "text/plain": [
              "array([0.00000000e+00, 0.00000000e+00, 0.00000000e+00, 8.92060660e-04,\n",
              "       8.92060660e-04, 1.78412132e-03, 1.78412132e-03, 2.67618198e-03,\n",
              "       2.67618198e-03, 3.56824264e-03, 3.56824264e-03, 4.46030330e-03,\n",
              "       4.46030330e-03, 5.35236396e-03, 5.35236396e-03, 6.24442462e-03,\n",
              "       6.24442462e-03, 7.13648528e-03, 7.13648528e-03, 8.02854594e-03,\n",
              "       8.02854594e-03, 8.92060660e-03, 8.92060660e-03, 1.15967886e-02,\n",
              "       1.15967886e-02, 1.24888492e-02, 1.24888492e-02, 1.33809099e-02,\n",
              "       1.33809099e-02, 1.42729706e-02, 1.42729706e-02, 1.51650312e-02,\n",
              "       1.51650312e-02, 1.60570919e-02, 1.60570919e-02, 1.69491525e-02,\n",
              "       1.69491525e-02, 1.78412132e-02, 1.78412132e-02, 1.78412132e-02,\n",
              "       1.78412132e-02, 1.87332739e-02, 1.87332739e-02, 1.96253345e-02,\n",
              "       1.96253345e-02, 2.05173952e-02, 2.05173952e-02, 2.23015165e-02,\n",
              "       2.23015165e-02, 2.31935772e-02, 2.31935772e-02, 2.40856378e-02,\n",
              "       2.40856378e-02, 2.58697591e-02, 2.58697591e-02, 2.76538805e-02,\n",
              "       2.76538805e-02, 2.76538805e-02, 2.76538805e-02, 2.94380018e-02,\n",
              "       2.94380018e-02, 3.03300624e-02, 3.03300624e-02, 3.21141838e-02,\n",
              "       3.21141838e-02, 3.30062444e-02, 3.30062444e-02, 3.38983051e-02,\n",
              "       3.38983051e-02, 3.47903657e-02, 3.47903657e-02, 3.56824264e-02,\n",
              "       3.56824264e-02, 3.65744871e-02, 3.65744871e-02, 3.74665477e-02,\n",
              "       3.74665477e-02, 3.74665477e-02, 3.74665477e-02, 3.83586084e-02,\n",
              "       3.83586084e-02, 3.92506690e-02, 3.92506690e-02, 4.19268510e-02,\n",
              "       4.19268510e-02, 4.28189117e-02, 4.28189117e-02, 4.37109723e-02,\n",
              "       4.37109723e-02, 4.46030330e-02, 4.46030330e-02, 4.54950937e-02,\n",
              "       4.54950937e-02, 4.72792150e-02, 4.72792150e-02, 4.90633363e-02,\n",
              "       4.90633363e-02, 4.99553970e-02, 4.99553970e-02, 5.17395183e-02,\n",
              "       5.17395183e-02, 5.35236396e-02, 5.35236396e-02, 5.44157003e-02,\n",
              "       5.44157003e-02, 5.61998216e-02, 5.61998216e-02, 5.70918822e-02,\n",
              "       5.70918822e-02, 5.79839429e-02, 5.79839429e-02, 5.88760036e-02,\n",
              "       5.88760036e-02, 6.86886708e-02, 6.86886708e-02, 7.04727921e-02,\n",
              "       7.04727921e-02, 7.58251561e-02, 7.58251561e-02, 7.67172168e-02,\n",
              "       7.67172168e-02, 7.76092774e-02, 7.76092774e-02, 7.85013381e-02,\n",
              "       7.85013381e-02, 7.93933988e-02, 7.93933988e-02, 8.29616414e-02,\n",
              "       8.29616414e-02, 8.47457627e-02, 8.47457627e-02, 9.00981267e-02,\n",
              "       9.00981267e-02, 9.09901873e-02, 9.09901873e-02, 9.45584300e-02,\n",
              "       9.63425513e-02, 9.63425513e-02, 1.01694915e-01, 1.01694915e-01,\n",
              "       1.04371097e-01, 1.04371097e-01, 1.07047279e-01, 1.07047279e-01,\n",
              "       1.09723461e-01, 1.09723461e-01, 1.11507583e-01, 1.11507583e-01,\n",
              "       1.15075825e-01, 1.15075825e-01, 1.16859946e-01, 1.16859946e-01,\n",
              "       1.20428189e-01, 1.22212310e-01, 1.23996432e-01, 1.23996432e-01,\n",
              "       1.83764496e-01, 1.83764496e-01, 2.48884924e-01, 2.48884924e-01,\n",
              "       2.53345227e-01, 2.53345227e-01, 3.04192685e-01, 3.04192685e-01,\n",
              "       3.38983051e-01, 3.40767172e-01, 3.45227475e-01, 3.47011597e-01,\n",
              "       3.57716325e-01, 3.59500446e-01, 3.86262266e-01, 3.88046387e-01,\n",
              "       4.05887600e-01, 4.07671722e-01, 4.51382694e-01, 4.53166815e-01,\n",
              "       5.74487065e-01, 5.76271186e-01, 5.88760036e-01, 5.90544157e-01,\n",
              "       5.99464764e-01, 6.01248885e-01, 6.46743979e-01, 6.48528100e-01,\n",
              "       6.61909010e-01, 6.66369313e-01, 6.77966102e-01, 6.79750223e-01,\n",
              "       6.91347012e-01, 6.93131133e-01, 9.32203390e-01, 9.33987511e-01,\n",
              "       1.00000000e+00])"
            ]
          },
          "metadata": {},
          "execution_count": 83
        }
      ]
    },
    {
      "cell_type": "code",
      "source": [
        "tpr"
      ],
      "metadata": {
        "id": "CZ5ZGyB9Y5Ep",
        "colab": {
          "base_uri": "https://localhost:8080/"
        },
        "outputId": "5c9fea10-0ff8-4850-e2b4-7e77e1df19b3"
      },
      "execution_count": 84,
      "outputs": [
        {
          "output_type": "execute_result",
          "data": {
            "text/plain": [
              "array([0.        , 0.00232019, 0.03016241, 0.03016241, 0.09280742,\n",
              "       0.09280742, 0.09976798, 0.09976798, 0.10904872, 0.10904872,\n",
              "       0.15313225, 0.15313225, 0.15777262, 0.15777262, 0.16937355,\n",
              "       0.16937355, 0.17169374, 0.17169374, 0.19953596, 0.19953596,\n",
              "       0.20417633, 0.20417633, 0.20649652, 0.20649652, 0.21809745,\n",
              "       0.21809745, 0.22041763, 0.22041763, 0.22969838, 0.22969838,\n",
              "       0.35266821, 0.35266821, 0.4199536 , 0.4199536 , 0.42691415,\n",
              "       0.42691415, 0.45475638, 0.45475638, 0.50812065, 0.51276102,\n",
              "       0.55452436, 0.55452436, 0.5638051 , 0.5638051 , 0.57308585,\n",
              "       0.57308585, 0.5962877 , 0.5962877 , 0.62412993, 0.62412993,\n",
              "       0.64037123, 0.64037123, 0.67285383, 0.67285383, 0.68909513,\n",
              "       0.68909513, 0.6937355 , 0.69837587, 0.70069606, 0.70069606,\n",
              "       0.70301624, 0.70301624, 0.70533643, 0.70533643, 0.70765661,\n",
              "       0.70765661, 0.71693735, 0.71693735, 0.72389791, 0.72389791,\n",
              "       0.72853828, 0.72853828, 0.73317865, 0.73317865, 0.74941995,\n",
              "       0.74941995, 0.79350348, 0.80046404, 0.80974478, 0.80974478,\n",
              "       0.81670534, 0.81670534, 0.82366589, 0.82366589, 0.84918794,\n",
              "       0.84918794, 0.85150812, 0.85150812, 0.85382831, 0.85382831,\n",
              "       0.87006961, 0.87006961, 0.88167053, 0.88167053, 0.8863109 ,\n",
              "       0.8863109 , 0.89095128, 0.89095128, 0.90023202, 0.90023202,\n",
              "       0.90487239, 0.90487239, 0.91183295, 0.91183295, 0.91415313,\n",
              "       0.91415313, 0.9187935 , 0.9187935 , 0.92111369, 0.92111369,\n",
              "       0.92343387, 0.92343387, 0.93271462, 0.93271462, 0.93967517,\n",
              "       0.93967517, 0.94199536, 0.94199536, 0.94431555, 0.94431555,\n",
              "       0.94895592, 0.94895592, 0.9512761 , 0.9512761 , 0.95359629,\n",
              "       0.95359629, 0.95591647, 0.95591647, 0.95823666, 0.95823666,\n",
              "       0.96055684, 0.96055684, 0.96287703, 0.96287703, 0.96519722,\n",
              "       0.96519722, 0.96519722, 0.9675174 , 0.9675174 , 0.96983759,\n",
              "       0.96983759, 0.97215777, 0.97215777, 0.97911833, 0.97911833,\n",
              "       0.98143852, 0.98143852, 0.9837587 , 0.9837587 , 0.98607889,\n",
              "       0.98607889, 0.98839907, 0.98839907, 0.98839907, 0.98839907,\n",
              "       0.99071926, 0.99071926, 0.99303944, 0.99303944, 0.99535963,\n",
              "       0.99535963, 0.99767981, 0.99767981, 1.        , 1.        ,\n",
              "       1.        , 1.        , 1.        , 1.        , 1.        ,\n",
              "       1.        , 1.        , 1.        , 1.        , 1.        ,\n",
              "       1.        , 1.        , 1.        , 1.        , 1.        ,\n",
              "       1.        , 1.        , 1.        , 1.        , 1.        ,\n",
              "       1.        , 1.        , 1.        , 1.        , 1.        ,\n",
              "       1.        , 1.        , 1.        ])"
            ]
          },
          "metadata": {},
          "execution_count": 84
        }
      ]
    },
    {
      "cell_type": "code",
      "source": [
        "thresholds[0]"
      ],
      "metadata": {
        "colab": {
          "base_uri": "https://localhost:8080/"
        },
        "id": "pVSwUpYzIyRU",
        "outputId": "edb5efe3-a476-43e2-cb0e-039e5d6424cc"
      },
      "execution_count": 85,
      "outputs": [
        {
          "output_type": "execute_result",
          "data": {
            "text/plain": [
              "1.9713405927434122"
            ]
          },
          "metadata": {},
          "execution_count": 85
        }
      ]
    },
    {
      "cell_type": "code",
      "source": [
        "plt.plot(fpr,tpr)\n",
        "\n",
        "#random model\n",
        "plt.plot(fpr,fpr,'--',color='red' )\n",
        "plt.title('ROC curve')\n",
        "plt.xlabel('FPR')\n",
        "plt.ylabel('TPR')\n",
        "plt.show()"
      ],
      "metadata": {
        "colab": {
          "base_uri": "https://localhost:8080/",
          "height": 492
        },
        "id": "sn7lEVnrrph-",
        "outputId": "e7c20540-9f35-4e80-e01f-0354e6344b3a"
      },
      "execution_count": 87,
      "outputs": [
        {
          "output_type": "display_data",
          "data": {
            "text/plain": [
              "<Figure size 640x480 with 1 Axes>"
            ],
            "image/png": "[encoded data removed]"
          },
          "metadata": {}
        }
      ]
    },
    {
      "cell_type": "markdown",
      "source": [
        "```\n",
        "TPR = TP/TP+FN\n",
        "FPR= FP/FP+TN\n",
        "\n",
        "```"
      ],
      "metadata": {
        "id": "9wvJXqvut8J2"
      }
    },
    {
      "cell_type": "code",
      "source": [
        "from sklearn.metrics import precision_recall_curve\n",
        "\n",
        "\n",
        "pr,re, thr= precision_recall_curve(y_test,y_proba)\n",
        "pr, re, thr"
      ],
      "metadata": {
        "id": "0VEE8ZCst11s",
        "colab": {
          "base_uri": "https://localhost:8080/"
        },
        "outputId": "b7589900-5bd5-4057-9477-3a93fb2c85bc"
      },
      "execution_count": 93,
      "outputs": [
        {
          "output_type": "execute_result",
          "data": {
            "text/plain": [
              "(array([0.27770619, 0.27788524, 0.27806452, ..., 1.        , 1.        ,\n",
              "        1.        ]),\n",
              " array([1.        , 1.        , 1.        , ..., 0.00464037, 0.00232019,\n",
              "        0.        ]),\n",
              " array([5.81451837e-04, 6.43168098e-04, 6.46112750e-04, ...,\n",
              "        9.69419332e-01, 9.69801098e-01, 9.71340593e-01]))"
            ]
          },
          "metadata": {},
          "execution_count": 93
        }
      ]
    },
    {
      "cell_type": "code",
      "source": [
        "plt.plot(re,pr)\n",
        "\n",
        "#random model\n",
        "plt.title('PR curve')\n",
        "plt.xlabel('Recall')\n",
        "plt.ylabel('Precision')\n",
        "plt.show()"
      ],
      "metadata": {
        "colab": {
          "base_uri": "https://localhost:8080/",
          "height": 492
        },
        "id": "sPasgLhMLXLY",
        "outputId": "0ebbc232-a761-4668-b9a8-a20b8964fcaf"
      },
      "execution_count": 97,
      "outputs": [
        {
          "output_type": "display_data",
          "data": {
            "text/plain": [
              "<Figure size 640x480 with 1 Axes>"
            ],
            "image/png": "[encoded data removed]"
          },
          "metadata": {}
        }
      ]
    },
    {
      "cell_type": "markdown",
      "source": [
        "#### for threshold between 0.80 and 0.90 (0.01) , calculate f1-score"
      ],
      "metadata": {
        "id": "XGo8LX3IO5of"
      }
    },
    {
      "cell_type": "code",
      "source": [
        "from sklearn.metrics import auc\n",
        "\n",
        "auc(re,pr) # area under PR Curve"
      ],
      "metadata": {
        "colab": {
          "base_uri": "https://localhost:8080/"
        },
        "id": "ab-O7EyEOssI",
        "outputId": "353b57a6-5577-4c43-e3a5-4972dea5e3f6"
      },
      "execution_count": 100,
      "outputs": [
        {
          "output_type": "execute_result",
          "data": {
            "text/plain": [
              "0.8992798515166267"
            ]
          },
          "metadata": {},
          "execution_count": 100
        }
      ]
    },
    {
      "cell_type": "markdown",
      "source": [],
      "metadata": {
        "id": "xhujr60VeBv2"
      }
    },
    {
      "cell_type": "markdown",
      "source": [
        "Class Imbalance Class Wieghts"
      ],
      "metadata": {
        "id": "I_JZAWDPeB12"
      }
    },
    {
      "cell_type": "code",
      "source": [
        "y_train.value_counts().plot(kind='bar')\n",
        "plt.xlabel('Class')\n",
        "plt.ylabel('Number of Samples')\n",
        "plt.title('Train Data Distribution')\n",
        "plt.show()"
      ],
      "metadata": {
        "colab": {
          "base_uri": "https://localhost:8080/",
          "height": 488
        },
        "id": "h8SzbSn9faUQ",
        "outputId": "ff8ceb6d-a04e-452d-dde8-3f44217843d1"
      },
      "execution_count": 101,
      "outputs": [
        {
          "output_type": "display_data",
          "data": {
            "text/plain": [
              "<Figure size 640x480 with 1 Axes>"
            ],
            "image/png": "[encoded data removed]"
          },
          "metadata": {}
        }
      ]
    },
    {
      "cell_type": "code",
      "source": [
        "y_train.value_counts()"
      ],
      "metadata": {
        "colab": {
          "base_uri": "https://localhost:8080/"
        },
        "id": "NfO9Zfqmfdzk",
        "outputId": "b27aa0f7-8677-4651-b442-c58dfe925708"
      },
      "execution_count": null,
      "outputs": [
        {
          "output_type": "execute_result",
          "data": {
            "text/plain": [
              "0    2551\n",
              "1    1068\n",
              "Name: label_num, dtype: int64"
            ]
          },
          "metadata": {},
          "execution_count": 40
        }
      ]
    },
    {
      "cell_type": "code",
      "source": [
        "2551/1068\n",
        "\n",
        "# multiply minority class with 2.38"
      ],
      "metadata": {
        "colab": {
          "base_uri": "https://localhost:8080/"
        },
        "id": "o79lM8X4gFEU",
        "outputId": "9420165e-3fd8-4a73-ef41-2e5934ba17b9"
      },
      "execution_count": 102,
      "outputs": [
        {
          "output_type": "execute_result",
          "data": {
            "text/plain": [
              "2.3885767790262173"
            ]
          },
          "metadata": {},
          "execution_count": 102
        }
      ]
    },
    {
      "cell_type": "code",
      "source": [
        "from sklearn.metrics import confusion_matrix, ConfusionMatrixDisplay\n",
        "\n",
        "model = LogisticRegression()\n",
        "\n",
        "model.fit(X_train,y_train)\n",
        "\n",
        "print(\"Training Acc:\",model.score(X_train,y_train))\n",
        "print(\"Testing Acc:\",model.score(X_test,y_test))\n",
        "\n",
        "y_pred_train=model.predict(X_train)\n",
        "print(\"Train F1 Acc:\",f1_score(y_train,y_pred_train))\n",
        "y_pred_test=model.predict(X_test)\n",
        "print(\"Test F1 Score: \",f1_score(y_test,y_pred_test))\n",
        "\n",
        "conf_matrix = confusion_matrix(y_test, y_pred_test)\n",
        "ConfusionMatrixDisplay(conf_matrix).plot()"
      ],
      "metadata": {
        "colab": {
          "base_uri": "https://localhost:8080/",
          "height": 557
        },
        "id": "wwWJSUeGeDWf",
        "outputId": "10dae78d-3fa3-4832-e965-cc33c11a2707"
      },
      "execution_count": 103,
      "outputs": [
        {
          "output_type": "stream",
          "name": "stdout",
          "text": [
            "Training Acc: 0.9292622271345675\n",
            "Testing Acc: 0.9342783505154639\n",
            "Train F1 Acc: 0.8873239436619718\n",
            "Test F1 Score:  0.8874172185430463\n"
          ]
        },
        {
          "output_type": "execute_result",
          "data": {
            "text/plain": [
              "<sklearn.metrics._plot.confusion_matrix.ConfusionMatrixDisplay at 0x7883968dbe20>"
            ]
          },
          "metadata": {},
          "execution_count": 103
        },
        {
          "output_type": "display_data",
          "data": {
            "text/plain": [
              "<Figure size 640x480 with 2 Axes>"
            ],
            "image/png": "[encoded data removed]"
          },
          "metadata": {}
        }
      ]
    },
    {
      "cell_type": "code",
      "source": [
        "from sklearn.metrics import confusion_matrix, ConfusionMatrixDisplay\n",
        "\n",
        "model = LogisticRegression(class_weight={0:1, 1:2.00})\n",
        "\n",
        "model.fit(X_train,y_train)\n",
        "\n",
        "print(\"Training Acc:\",model.score(X_train,y_train))\n",
        "print(\"Testing Acc:\",model.score(X_test,y_test))\n",
        "\n",
        "y_pred_train=model.predict(X_train)\n",
        "print(\"Train F1 Acc:\",f1_score(y_train,y_pred_train))\n",
        "y_pred_test=model.predict(X_test)\n",
        "print(\"Test F1 Score: \",f1_score(y_test,y_pred_test))\n",
        "\n",
        "conf_matrix = confusion_matrix(y_test, y_pred_test)\n",
        "ConfusionMatrixDisplay(conf_matrix).plot()"
      ],
      "metadata": {
        "id": "R8ZAbWoKewbP",
        "colab": {
          "base_uri": "https://localhost:8080/",
          "height": 557
        },
        "outputId": "ee07b232-0ef5-415e-d1bb-3246ad6d3da0"
      },
      "execution_count": 105,
      "outputs": [
        {
          "output_type": "stream",
          "name": "stdout",
          "text": [
            "Training Acc: 0.8991434097817077\n",
            "Testing Acc: 0.9091494845360825\n",
            "Train F1 Acc: 0.852881902458686\n",
            "Test F1 Score:  0.8582914572864322\n"
          ]
        },
        {
          "output_type": "execute_result",
          "data": {
            "text/plain": [
              "<sklearn.metrics._plot.confusion_matrix.ConfusionMatrixDisplay at 0x788396ac4610>"
            ]
          },
          "metadata": {},
          "execution_count": 105
        },
        {
          "output_type": "display_data",
          "data": {
            "text/plain": [
              "<Figure size 640x480 with 2 Axes>"
            ],
            "image/png": "[encoded data removed]"
          },
          "metadata": {}
        }
      ]
    },
    {
      "cell_type": "code",
      "source": [
        "from sklearn.linear_model import LogisticRegression\n",
        "from sklearn.metrics import f1_score\n",
        "from imblearn.over_sampling import RandomOverSampler\n",
        "\n",
        "\n",
        "oversampler = RandomOverSampler()\n",
        "\n",
        "\n",
        "print(\"Before Oversampling\\n\", y_train.value_counts())\n",
        "X_train_ovs, y_train_ovs = oversampler.fit_resample(X_train,y_train)\n",
        "\n",
        "\n",
        "print(\"Before AfterOversampling\\n\", y_train_ovs.value_counts())"
      ],
      "metadata": {
        "id": "PGGRhIR5iT1W",
        "colab": {
          "base_uri": "https://localhost:8080/"
        },
        "outputId": "cf1af1a6-220d-47f8-cc14-fde4116bb626"
      },
      "execution_count": 109,
      "outputs": [
        {
          "output_type": "stream",
          "name": "stdout",
          "text": [
            "Before Oversampling\n",
            " 0    2551\n",
            "1    1068\n",
            "Name: label_num, dtype: int64\n",
            "Before AfterOversampling\n",
            " 0    2551\n",
            "1    2551\n",
            "Name: label_num, dtype: int64\n"
          ]
        }
      ]
    },
    {
      "cell_type": "code",
      "source": [
        "from sklearn.metrics import confusion_matrix, ConfusionMatrixDisplay\n",
        "\n",
        "model = LogisticRegression()\n",
        "\n",
        "model.fit(X_train_ovs,y_train_ovs)\n",
        "\n",
        "print(\"Training Acc:\",model.score(X_train_ovs,y_train_ovs))\n",
        "print(\"Testing Acc:\",model.score(X_test,y_test))\n",
        "\n",
        "y_pred_train=model.predict(X_train_ovs)\n",
        "print(\"Train F1 Acc:\",f1_score(y_train_ovs,y_pred_train))\n",
        "y_pred_test=model.predict(X_test)\n",
        "print(\"Test F1 Score: \",f1_score(y_test,y_pred_test))\n",
        "\n",
        "conf_matrix = confusion_matrix(y_test, y_pred_test)\n",
        "ConfusionMatrixDisplay(conf_matrix).plot()"
      ],
      "metadata": {
        "colab": {
          "base_uri": "https://localhost:8080/",
          "height": 557
        },
        "id": "K3hWgO3WZNdP",
        "outputId": "2b312a54-e65e-438b-8920-2e7be2c4ee44"
      },
      "execution_count": 112,
      "outputs": [
        {
          "output_type": "stream",
          "name": "stdout",
          "text": [
            "Training Acc: 0.9202273618188945\n",
            "Testing Acc: 0.9014175257731959\n",
            "Train F1 Acc: 0.9256349351361227\n",
            "Test F1 Score:  0.8480635551142005\n"
          ]
        },
        {
          "output_type": "execute_result",
          "data": {
            "text/plain": [
              "<sklearn.metrics._plot.confusion_matrix.ConfusionMatrixDisplay at 0x788396bc0520>"
            ]
          },
          "metadata": {},
          "execution_count": 112
        },
        {
          "output_type": "display_data",
          "data": {
            "text/plain": [
              "<Figure size 640x480 with 2 Axes>"
            ],
            "image/png": "[encoded data removed]"
          },
          "metadata": {}
        }
      ]
    },
    {
      "cell_type": "markdown",
      "source": [],
      "metadata": {
        "id": "Mfd90cwYiKLF"
      }
    },
    {
      "cell_type": "code",
      "source": [
        "from sklearn.linear_model import LogisticRegression\n",
        "from sklearn.metrics import f1_score\n",
        "from imblearn.over_sampling import SMOTE\n",
        "\n",
        "\n",
        "smt = SMOTE()\n",
        "\n",
        "\n",
        "print(\"Before Oversampling\\n\", y_train.value_counts())\n",
        "X_train_sm, y_train_sm = smt.fit_resample(X_train,y_train)\n",
        "print(\"Before AfterOversampling\\n\", y_train_sm.value_counts())"
      ],
      "metadata": {
        "id": "oyoUkbQwfBDD",
        "colab": {
          "base_uri": "https://localhost:8080/"
        },
        "outputId": "9f1f5c3b-a52b-4440-9ee7-581c92e60cd8"
      },
      "execution_count": 113,
      "outputs": [
        {
          "output_type": "stream",
          "name": "stdout",
          "text": [
            "Before Oversampling\n",
            " 0    2551\n",
            "1    1068\n",
            "Name: label_num, dtype: int64\n",
            "Before AfterOversampling\n",
            " 0    2551\n",
            "1    2551\n",
            "Name: label_num, dtype: int64\n"
          ]
        }
      ]
    },
    {
      "cell_type": "markdown",
      "source": [],
      "metadata": {
        "id": "aycH8FLviZIG"
      }
    },
    {
      "cell_type": "code",
      "source": [
        "from sklearn.metrics import confusion_matrix, ConfusionMatrixDisplay\n",
        "\n",
        "model = LogisticRegression()\n",
        "\n",
        "model.fit(X_train_sm,y_train_sm)\n",
        "\n",
        "print(\"Training Acc:\",model.score(X_train_sm,y_train_sm))\n",
        "print(\"Testing Acc:\",model.score(X_test,y_test))\n",
        "\n",
        "y_pred_train=model.predict(X_train_sm)\n",
        "print(\"Train F1 Acc:\",f1_score(y_train_sm,y_pred_train))\n",
        "y_pred_test=model.predict(X_test)\n",
        "print(\"Test F1 Score: \",f1_score(y_test,y_pred_test))\n",
        "\n",
        "conf_matrix = confusion_matrix(y_test, y_pred_test)\n",
        "ConfusionMatrixDisplay(conf_matrix).plot()"
      ],
      "metadata": {
        "id": "OmfoZL4ahP6W",
        "colab": {
          "base_uri": "https://localhost:8080/",
          "height": 557
        },
        "outputId": "faba31f7-a9f4-4ab3-d1f0-6ae96d91ac5f"
      },
      "execution_count": 114,
      "outputs": [
        {
          "output_type": "stream",
          "name": "stdout",
          "text": [
            "Training Acc: 0.9208153665229322\n",
            "Testing Acc: 0.9027061855670103\n",
            "Train F1 Acc: 0.9261695906432749\n",
            "Test F1 Score:  0.8497512437810945\n"
          ]
        },
        {
          "output_type": "execute_result",
          "data": {
            "text/plain": [
              "<sklearn.metrics._plot.confusion_matrix.ConfusionMatrixDisplay at 0x7883964be9b0>"
            ]
          },
          "metadata": {},
          "execution_count": 114
        },
        {
          "output_type": "display_data",
          "data": {
            "text/plain": [
              "<Figure size 640x480 with 2 Axes>"
            ],
            "image/png": "[encoded data removed]"
          },
          "metadata": {}
        }
      ]
    },
    {
      "cell_type": "markdown",
      "source": [],
      "metadata": {
        "id": "XwlWUR2XiZEu"
      }
    },
    {
      "cell_type": "markdown",
      "source": [
        "### HW: Use Gridsearch to find the best values of parameters for maximizing f1-score among following:\n",
        "```\n",
        "C = [1,5,10,15,20],\n",
        "penalty= ['l1', 'l2']\n",
        "solver = ['lbfgs','liblinear']\n",
        "```"
      ],
      "metadata": {
        "id": "pB2s9aYBiZCC"
      }
    },
    {
      "cell_type": "code",
      "source": [
        "from sklearn.metrics import classification_report\n",
        "print(\"Test Report: \",classification_report(y_test,y_pred_test))"
      ],
      "metadata": {
        "id": "bfYaYBc7ig44",
        "colab": {
          "base_uri": "https://localhost:8080/"
        },
        "outputId": "9593964d-cfd1-4bb1-8f63-b76254834649"
      },
      "execution_count": 115,
      "outputs": [
        {
          "output_type": "stream",
          "name": "stdout",
          "text": [
            "Test Report:                precision    recall  f1-score   support\n",
            "\n",
            "           0       1.00      0.87      0.93      1121\n",
            "           1       0.74      0.99      0.85       431\n",
            "\n",
            "    accuracy                           0.90      1552\n",
            "   macro avg       0.87      0.93      0.89      1552\n",
            "weighted avg       0.93      0.90      0.91      1552\n",
            "\n"
          ]
        }
      ]
    },
    {
      "cell_type": "markdown",
      "source": [
        "read about MICRO AVG, MACRO AVG and WEIGHED AVG wrt F1-Score"
      ],
      "metadata": {
        "id": "oodmzt1VeDub"
      }
    },
    {
      "cell_type": "code",
      "source": [],
      "metadata": {
        "id": "PuXVPUEldqYq"
      },
      "execution_count": null,
      "outputs": []
    }
  ]
}